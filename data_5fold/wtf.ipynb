{
 "cells": [
  {
   "cell_type": "markdown",
   "id": "9e549ec3",
   "metadata": {},
   "source": [
    "checking mismatches between rows and seeing y thats happening"
   ]
  },
  {
   "cell_type": "code",
   "execution_count": 7,
   "id": "6400a6f3",
   "metadata": {},
   "outputs": [
    {
     "name": "stdout",
     "output_type": "stream",
     "text": [
      "File 1: results/new/final_test_predictions_GINConvNet_davis_b3_1.csv — 5712 rows\n",
      "    Drug_ID Protein_ID  True_Label  Predicted_Value  Fold\n",
      "0  10138260      SNARK     6.39794         5.411871     1\n",
      "File 2: results/new/final_test_predictions_GINConvNet_davis_b3_2.csv — 5508 rows\n",
      "    Drug_ID Protein_ID  True_Label  Predicted_Value  Fold\n",
      "0  10427712        TXK         5.0         4.936027     2\n",
      "File 3: results/new/final_test_predictions_GINConvNet_davis_b3_3.csv — 7072 rows\n",
      "   Drug_ID Protein_ID  True_Label  Predicted_Value  Fold\n",
      "0  6450551       GRK1         5.0         4.977173     3\n",
      "File 4: results/new/final_test_predictions_GINConvNet_davis_b3_4.csv — 6256 rows\n",
      "    Drug_ID Protein_ID  True_Label  Predicted_Value  Fold\n",
      "0  11427553       ERK1         5.0         5.762062     4\n",
      "File 5: results/new/final_test_predictions_GINConvNet_davis_b3_5.csv — 5508 rows\n",
      "   Drug_ID Protein_ID  True_Label  Predicted_Value  Fold\n",
      "0   208908      PRKCI         5.0         4.847114     5\n",
      "Saved concatenated DataFrame to results/new/concatenated_final_test_predictions.csv\n"
     ]
    }
   ],
   "source": [
    "# List of file paths\n",
    "file_paths = [f\"results/new/final_test_predictions_GINConvNet_davis_b3_{i}.csv\" for i in range(1, 6)]\n",
    "\n",
    "df_list = []\n",
    "for i, path in enumerate(file_paths, start=1):\n",
    "    df = pd.read_csv(path)\n",
    "    df.drop(columns=[\"Fold\"], errors=\"ignore\", inplace=True)  # Remove existing Fold column if present\n",
    "    df[\"Fold\"] = i  # Add new Fold column\n",
    "    print(f\"File {i}: {path} — {len(df)} rows\")  # Debug: show number of rows\n",
    "    print(df.head(1))  # Debug: show sample row to verify Fold is added\n",
    "    df_list.append(df)\n",
    "    \n",
    "    \n",
    "concatenated_df = pd.concat(df_list, ignore_index=True)\n",
    "\n",
    "# Save to a new CSV\n",
    "output_path = \"results/new/concatenated_final_test_predictions.csv\"\n",
    "concatenated_df.to_csv(output_path, index=False)\n",
    "\n",
    "print(f\"Saved concatenated DataFrame to {output_path}\")"
   ]
  },
  {
   "cell_type": "code",
   "execution_count": 8,
   "id": "efc95eae",
   "metadata": {},
   "outputs": [
    {
     "name": "stdout",
     "output_type": "stream",
     "text": [
      "✅ Total original triples: 27621\n",
      "✅ Total unblinded prediction triples: 27621\n",
      "✅ Total blinded prediction triples: 27621\n",
      "\n",
      "❌ Missing from unblinded: 58\n",
      "❌ Missing from blinded: 58\n",
      "\n",
      "Examples missing from unblinded: [(10138260, 'LYN', 6.09151), (16722836, 'RSK2(KinDom.1-N-terminal)', 5.09151), (11427553, 'EPHA3', 6.09151), (126565, 'RET(V804M)', 8.17393), (9933475, 'TNIK', 6.09151)]\n",
      "\n",
      "Examples missing from blinded: [(10138260, 'LYN', 6.09151), (16722836, 'RSK2(KinDom.1-N-terminal)', 5.09151), (11427553, 'EPHA3', 6.09151), (126565, 'RET(V804M)', 8.17393), (9933475, 'TNIK', 6.09151)]\n"
     ]
    }
   ],
   "source": [
    "import pandas as pd\n",
    "\n",
    "# Load original train + test\n",
    "train = pd.read_csv(\"data/davis_b3_train.csv\")\n",
    "test = pd.read_csv(\"data/davis_b3_test.csv\")\n",
    "combined = pd.concat([train, test], ignore_index=True)\n",
    "combined[\"affinity\"] = combined[\"affinity\"].round(5)\n",
    "original_triples = set(zip(combined[\"drug_id\"], combined[\"protein_id\"], combined[\"affinity\"]))\n",
    "\n",
    "# Load predictions\n",
    "# unblinded = pd.read_csv(\"results/1000EPOCH/crossval_predictions_GINConvNet_davis_b3.csv\")\n",
    "# blinded = pd.read_csv(\"results/1000EPOCH/concatenated_final_test_predictions.csv\")\n",
    "unblinded = pd.read_csv(\"results/new/crossval_predictions_GINConvNet_davis_b3.csv\")\n",
    "blinded = pd.read_csv(\"results/new/concatenated_final_test_predictions.csv\")\n",
    "\n",
    "unblinded[\"True_Label\"] = unblinded[\"True_Label\"].round(5)\n",
    "blinded[\"True_Label\"] = blinded[\"True_Label\"].round(5)\n",
    "\n",
    "unblinded_triples = set(zip(unblinded[\"Drug_ID\"], unblinded[\"Protein_ID\"], unblinded[\"True_Label\"]))\n",
    "blinded_triples = set(zip(blinded[\"Drug_ID\"], blinded[\"Protein_ID\"], blinded[\"True_Label\"]))\n",
    "\n",
    "# Compare\n",
    "missing_from_unblinded = original_triples - unblinded_triples\n",
    "missing_from_blinded = original_triples - blinded_triples\n",
    "\n",
    "# Report\n",
    "print(f\"✅ Total original triples: {len(original_triples)}\")\n",
    "print(f\"✅ Total unblinded prediction triples: {len(unblinded_triples)}\")\n",
    "print(f\"✅ Total blinded prediction triples: {len(blinded_triples)}\")\n",
    "\n",
    "print(f\"\\n❌ Missing from unblinded: {len(missing_from_unblinded)}\")\n",
    "print(f\"❌ Missing from blinded: {len(missing_from_blinded)}\")\n",
    "\n",
    "# Optionally preview a few\n",
    "if missing_from_unblinded:\n",
    "    print(\"\\nExamples missing from unblinded:\", list(missing_from_unblinded)[:5])\n",
    "if missing_from_blinded:\n",
    "    print(\"\\nExamples missing from blinded:\", list(missing_from_blinded)[:5])\n"
   ]
  }
 ],
 "metadata": {
  "kernelspec": {
   "display_name": "geometric",
   "language": "python",
   "name": "python3"
  },
  "language_info": {
   "codemirror_mode": {
    "name": "ipython",
    "version": 3
   },
   "file_extension": ".py",
   "mimetype": "text/x-python",
   "name": "python",
   "nbconvert_exporter": "python",
   "pygments_lexer": "ipython3",
   "version": "3.11.11"
  }
 },
 "nbformat": 4,
 "nbformat_minor": 5
}
