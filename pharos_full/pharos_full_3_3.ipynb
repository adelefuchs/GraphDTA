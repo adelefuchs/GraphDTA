{
 "cells": [
  {
   "cell_type": "code",
   "execution_count": 1,
   "metadata": {},
   "outputs": [
    {
     "name": "stdout",
     "output_type": "stream",
     "text": [
      "1785\n",
      "     uniprot TDL_current TDL_v6_9  fam\n",
      "0     A0AV96        Tbio    Tdark  NaN\n",
      "1     A0AVF1        Tbio    Tdark  NaN\n",
      "2     A0FGR9        Tbio    Tdark  NaN\n",
      "3     A0JNW5        Tbio    Tdark  NaN\n",
      "4     A0PJK1        Tbio    Tdark  NaN\n",
      "...      ...         ...      ...  ...\n",
      "1780  Q9Y6I8        Tbio    Tdark  NaN\n",
      "1781  Q9Y6I9        Tbio    Tdark  NaN\n",
      "1782  Q9Y6L7       Tchem    Tdark  NaN\n",
      "1783  Q9Y6Q3        Tbio    Tdark  NaN\n",
      "1784  Q9Y6V7        Tbio    Tdark  NaN\n",
      "\n",
      "[1785 rows x 4 columns]\n",
      "Number of reclassified proteins: 1785\n"
     ]
    }
   ],
   "source": [
    "from sqlalchemy import create_engine\n",
    "import pandas as pd\n",
    "\n",
    "# Define your database connection parameters\n",
    "host=\"localhost\"\n",
    "port=3306\n",
    "user=\"root\"\n",
    "password=\"Afu27959\"\n",
    "database=\"thesisCurrent\"\n",
    "database2=\"thesisv6.9\"\n",
    "\n",
    "# Create a SQLAlchemy engine\n",
    "engine1 = create_engine(f'mysql+mysqlconnector://{user}:{password}@{host}/{database}')\n",
    "\n",
    "engine2 = create_engine(f'mysql+mysqlconnector://{user}:{password}@{host}/{database2}')\n",
    "\n",
    "# Query to get data\n",
    "query1 = \"\"\"\n",
    "SELECT uniprot, tdl FROM protein JOIN target ON protein.ID = target.ID;\n",
    "\"\"\"\n",
    "df1 = pd.read_sql(query1, engine1) #Current\n",
    "#print(df1)\n",
    "\n",
    "query2 = \"\"\"\n",
    "SELECT uniprot, tdl FROM protein JOIN target ON protein.ID = target.ID;\n",
    "\"\"\"\n",
    "df2 = pd.read_sql(query2, engine2) #Older\n",
    "\n",
    "def compare_versions(df1, df2):\n",
    "    # Merge dataframes on 'uniprot'\n",
    "    merged = df1.rename(columns={'tdl': 'TDL_current'}).merge(\n",
    "        df2.rename(columns={'tdl': 'TDL_v6_9'}),\n",
    "        on='uniprot',\n",
    "        how='outer'\n",
    "    )\n",
    "    \n",
    "    # Find proteins that were Tdark in v6.9 and reclassified in v6.11\n",
    "    reclassified = merged[(merged['TDL_v6_9'] == 'Tdark') & (merged['TDL_current'] != 'Tdark')]\n",
    "    \n",
    "    return reclassified\n",
    "\n",
    "# Compare versions\n",
    "reclassified_proteins = compare_versions(df1, df2)\n",
    "\n",
    "uniprot_list = reclassified_proteins['uniprot'].tolist()\n",
    "formatted_uniprot_list = \"', '\".join(uniprot_list)\n",
    "print(len(uniprot_list))\n",
    "\n",
    "# Query to get family information from idg_evol table\n",
    "query_fam = f\"\"\"\n",
    "SELECT DISTINCT uniprot, fam\n",
    "FROM idg_evol\n",
    "WHERE uniprot IN ('{formatted_uniprot_list}');\n",
    "\"\"\"\n",
    "\n",
    "# Fetch the family data from the database\n",
    "fam_df = pd.read_sql(query_fam, engine1)\n",
    "\n",
    "# Merge the family data with the reclassified proteins dataframe\n",
    "reclassified_proteins_with_fam = reclassified_proteins.merge(fam_df, on='uniprot', how='left')\n",
    "\n",
    "# Display results with the added family column\n",
    "print(reclassified_proteins_with_fam)\n",
    "print(f\"Number of reclassified proteins: {len(reclassified_proteins_with_fam)}\")\n"
   ]
  },
  {
   "cell_type": "code",
   "execution_count": 2,
   "metadata": {},
   "outputs": [],
   "source": [
    "if uniprot_list:\n",
    "    # Format the list for SQL query\n",
    "    formatted_uniprot_list = \"', '\".join(uniprot_list)\n",
    "    \n",
    "    # SQL query to get relevant data from the database\n",
    "    query_data1 = f\"\"\"\n",
    "    SELECT \n",
    "        p.uniprot AS uniprot,\n",
    "        p.seq AS sequence,\n",
    "        da.smiles AS smiles,\n",
    "        da.act_value AS affinity\n",
    "    FROM \n",
    "        protein p\n",
    "    JOIN \n",
    "        drug_activity da ON p.id = da.target_id\n",
    "    WHERE \n",
    "        p.uniprot IN ('{formatted_uniprot_list}')\n",
    "    UNION ALL\n",
    "\n",
    "    SELECT \n",
    "        p.uniprot AS uniprot,\n",
    "        p.seq AS sequence,\n",
    "        ca.smiles AS smiles,\n",
    "        ca.act_value AS affinity\n",
    "    FROM \n",
    "        protein p\n",
    "    JOIN \n",
    "        target t ON p.id = t.id\n",
    "    JOIN \n",
    "        cmpd_activity ca ON t.id = ca.target_id\n",
    "    WHERE \n",
    "        p.uniprot IN ('{formatted_uniprot_list}')\n",
    "    \"\"\""
   ]
  },
  {
   "cell_type": "markdown",
   "metadata": {},
   "source": [
    "###  GETTING RESULTS NOT IN RECLASSIFIED SET "
   ]
  },
  {
   "cell_type": "code",
   "execution_count": 3,
   "metadata": {},
   "outputs": [],
   "source": [
    "if uniprot_list:\n",
    "    # Format the list for SQL query\n",
    "    formatted_uniprot_list = \"', '\".join(uniprot_list)\n",
    "    \n",
    "    # SQL query to get relevant data from the database\n",
    "    query_data2 = f\"\"\"\n",
    "    SELECT \n",
    "        p.seq AS sequence,\n",
    "        da.smiles AS smiles,\n",
    "        da.act_value AS affinity\n",
    "    FROM \n",
    "        protein p\n",
    "    JOIN \n",
    "        drug_activity da ON p.id = da.target_id\n",
    "    WHERE \n",
    "        p.seq IS NOT NULL AND p.seq <> '' \n",
    "        AND da.smiles IS NOT NULL AND da.smiles <> '' \n",
    "        AND da.act_value IS NOT NULL\n",
    "        AND p.uniprot NOT IN ('{formatted_uniprot_list}')\n",
    "\n",
    "    UNION ALL\n",
    "\n",
    "    SELECT \n",
    "        p.seq AS sequence,\n",
    "        ca.smiles AS smiles,\n",
    "        ca.act_value AS affinity\n",
    "    FROM \n",
    "        protein p\n",
    "    JOIN \n",
    "        target t ON p.id = t.id\n",
    "    JOIN \n",
    "        cmpd_activity ca ON t.id = ca.target_id\n",
    "    WHERE \n",
    "        p.seq IS NOT NULL AND p.seq <> '' \n",
    "        AND ca.smiles IS NOT NULL AND ca.smiles <> '' \n",
    "        AND ca.act_value IS NOT NULL\n",
    "        AND p.uniprot NOT IN ('{formatted_uniprot_list}');\n",
    "    \"\"\""
   ]
  },
  {
   "cell_type": "code",
   "execution_count": 4,
   "metadata": {},
   "outputs": [
    {
     "name": "stdout",
     "output_type": "stream",
     "text": [
      "Index(['compound_iso_smiles', 'target_sequence', 'affinity'], dtype='object')\n",
      "Missing values per column:\n",
      " compound_iso_smiles    0\n",
      "target_sequence        0\n",
      "affinity               0\n",
      "dtype: int64\n",
      "Empty string counts per column:\n",
      " compound_iso_smiles    0\n",
      "target_sequence        0\n",
      "affinity               0\n",
      "dtype: int64\n",
      "Number of rows in df 643065\n"
     ]
    },
    {
     "name": "stderr",
     "output_type": "stream",
     "text": [
      "[17:30:09] Explicit valence for atom # 8 C, 5, is greater than permitted\n",
      "[17:30:09] Explicit valence for atom # 8 C, 5, is greater than permitted\n",
      "[17:30:09] Explicit valence for atom # 1 N, 4, is greater than permitted\n"
     ]
    },
    {
     "name": "stdout",
     "output_type": "stream",
     "text": [
      "Number of invalid SMILES: 3\n",
      "Number of valid rows in df: 643061\n"
     ]
    }
   ],
   "source": [
    "df_val = pd.read_sql(query_data2, engine1)\n",
    "df_val = df_val.rename(columns={\n",
    "    'smiles': 'compound_iso_smiles',\n",
    "    'sequence': 'target_sequence'\n",
    "})\n",
    "data_df = df_val[['compound_iso_smiles', 'target_sequence', 'affinity']]\n",
    "print(data_df.columns)\n",
    "\n",
    "missing_values = data_df.isna().sum()\n",
    "empty_strings = (data_df == \"\").sum()\n",
    "\n",
    "print(\"Missing values per column:\\n\", missing_values)\n",
    "print(\"Empty string counts per column:\\n\", empty_strings)\n",
    "\n",
    "data_df = data_df.replace(\"\", pd.NA).dropna()\n",
    "print(\"Number of rows in df\", len(data_df))\n",
    "\n",
    "#remove smiles that was throwing error (1 record)\n",
    "data_df = data_df[data_df['compound_iso_smiles'] != '[H+].C1=CC(=C(C=C1CCC(=O)NCCCCCC(=O)NCCCC[C@@H](C(=O)O)NC(=O)N[C@@H](CCC(=O)O)C(=O)O)CN(CCN(CC2=C(C=CC(=C2)CCC(=O)O)[O-])CC(=O)[O-])CC(=O)[O-])[O-].[68Ga+3]']\n",
    "\n",
    "from rdkit import Chem\n",
    "from rdkit.Chem import MolFromSmiles\n",
    "import warnings\n",
    "# **Validate SMILES strings using RDKit**\n",
    "# Function to validate SMILES and check for specific warnings\n",
    "def is_valid_smiles(smile):\n",
    "    return Chem.MolFromSmiles(smile) is not None\n",
    "\n",
    "# Apply validation\n",
    "valid_smiles_mask = data_df['compound_iso_smiles'].apply(is_valid_smiles)\n",
    "\n",
    "# Count invalid SMILES\n",
    "num_invalid_smiles = (~valid_smiles_mask).sum()\n",
    "print(f\"Number of invalid SMILES: {num_invalid_smiles}\")\n",
    "\n",
    "# Keep only valid rows\n",
    "data_df = data_df[valid_smiles_mask]\n",
    "\n",
    "print(\"Number of valid rows in df:\", len(data_df))"
   ]
  },
  {
   "cell_type": "markdown",
   "metadata": {},
   "source": [
    "***Creating pharos.csv***"
   ]
  },
  {
   "cell_type": "code",
   "execution_count": 5,
   "metadata": {},
   "outputs": [],
   "source": [
    "data_df.to_csv('pharos_full.csv', index=False)\n"
   ]
  },
  {
   "cell_type": "markdown",
   "metadata": {},
   "source": [
    "Trying to get pt files"
   ]
  },
  {
   "cell_type": "code",
   "execution_count": 2,
   "metadata": {},
   "outputs": [],
   "source": [
    "import sys\n",
    "# Add the project directory to the Python path\n",
    "sys.path.append('/Users/adele/Documents/GitHub/GraphDTA')"
   ]
  },
  {
   "cell_type": "markdown",
   "metadata": {},
   "source": [
    "Took methods from creata_data and pasted here"
   ]
  },
  {
   "cell_type": "code",
   "execution_count": 8,
   "metadata": {},
   "outputs": [],
   "source": [
    "import pandas as pd\n",
    "import numpy as np\n",
    "import os\n",
    "import json,pickle\n",
    "from collections import OrderedDict\n",
    "from rdkit import Chem\n",
    "from rdkit.Chem import MolFromSmiles\n",
    "import networkx as nx\n",
    "\n",
    "def atom_features(atom):\n",
    "    return np.array(one_of_k_encoding_unk(atom.GetSymbol(),['C', 'N', 'O', 'S', 'F', 'Si', 'P', 'Cl', 'Br', 'Mg', 'Na','Ca', 'Fe', 'As', 'Al', 'I', 'B', 'V', 'K', 'Tl', 'Yb','Sb', 'Sn', 'Ag', 'Pd', 'Co', 'Se', 'Ti', 'Zn', 'H','Li', 'Ge', 'Cu', 'Au', 'Ni', 'Cd', 'In', 'Mn', 'Zr','Cr', 'Pt', 'Hg', 'Pb', 'Unknown']) +\n",
    "                    one_of_k_encoding(atom.GetDegree(), [0, 1, 2, 3, 4, 5, 6,7,8,9,10]) +\n",
    "                    one_of_k_encoding_unk(atom.GetTotalNumHs(), [0, 1, 2, 3, 4, 5, 6,7,8,9,10]) +\n",
    "                    one_of_k_encoding_unk(atom.GetImplicitValence(), [0, 1, 2, 3, 4, 5, 6,7,8,9,10]) +\n",
    "                    [atom.GetIsAromatic()])\n",
    "\n",
    "def one_of_k_encoding(x, allowable_set):\n",
    "    if x not in allowable_set:\n",
    "        raise Exception(\"input {0} not in allowable set{1}:\".format(x, allowable_set))\n",
    "    return list(map(lambda s: x == s, allowable_set))\n",
    "\n",
    "def one_of_k_encoding_unk(x, allowable_set):\n",
    "    \"\"\"Maps inputs not in the allowable set to the last element.\"\"\"\n",
    "    if x not in allowable_set:\n",
    "        x = allowable_set[-1]\n",
    "    return list(map(lambda s: x == s, allowable_set))\n",
    "\n",
    "def smile_to_graph(smile):\n",
    "    mol = Chem.MolFromSmiles(smile)\n",
    "    \n",
    "    c_size = mol.GetNumAtoms()\n",
    "    \n",
    "    features = []\n",
    "    for atom in mol.GetAtoms():\n",
    "        feature = atom_features(atom)\n",
    "        features.append( feature / sum(feature) )\n",
    "\n",
    "    edges = []\n",
    "    for bond in mol.GetBonds():\n",
    "        edges.append([bond.GetBeginAtomIdx(), bond.GetEndAtomIdx()])\n",
    "    g = nx.Graph(edges).to_directed()\n",
    "    edge_index = []\n",
    "    for e1, e2 in g.edges:\n",
    "        edge_index.append([e1, e2])\n",
    "        \n",
    "    return c_size, features, edge_index\n",
    "\n",
    "def seq_cat(prot):\n",
    "    x = np.zeros(max_seq_len)\n",
    "    for i, ch in enumerate(prot[:max_seq_len]): \n",
    "        x[i] = seq_dict[ch]\n",
    "    return x  \n",
    "    \n",
    "seq_voc = \"ABCDEFGHIKLMNOPQRSTUVWXYZ\"\n",
    "seq_dict = {v:(i+1) for i,v in enumerate(seq_voc)}\n",
    "seq_dict_len = len(seq_dict)\n",
    "max_seq_len = 1000"
   ]
  },
  {
   "cell_type": "markdown",
   "metadata": {},
   "source": [
    "### making the smiles graphs and getting rid of ones that are invalid  RAN ON CLUSTER"
   ]
  },
  {
   "cell_type": "code",
   "execution_count": null,
   "metadata": {},
   "outputs": [],
   "source": [
    "# compound_iso_smiles = []\n",
    "# df = pd.read_csv('pharos_full.csv')\n",
    "# compound_iso_smiles += list( df['compound_iso_smiles'] )\n",
    "# compound_iso_smiles = set(compound_iso_smiles)\n",
    "# smile_graph = {}\n",
    "# for smile in compound_iso_smiles:\n",
    "#     g = smile_to_graph(smile)\n",
    "#     smile_graph[smile] = g\n"
   ]
  },
  {
   "cell_type": "code",
   "execution_count": null,
   "metadata": {},
   "outputs": [
    {
     "name": "stdout",
     "output_type": "stream",
     "text": [
      "Warning: Element with SMILES [Na+].[SH-] has incorrect edge_index shape: (0,)\n",
      "Warning: Element with SMILES [S] has incorrect edge_index shape: (0,)\n",
      "Warning: Element with SMILES [Cl-].[Cl-].[Zn+2] has incorrect edge_index shape: (0,)\n",
      "Warning: Element with SMILES S.S.S has incorrect edge_index shape: (0,)\n",
      "Warning: Element with SMILES S has incorrect edge_index shape: (0,)\n",
      "5\n",
      "Number of valid entries in smile_graph: 361898\n"
     ]
    }
   ],
   "source": [
    "# # Iterate over the dictionary and remove invalid entries\n",
    "# keys_to_remove = []\n",
    "\n",
    "# for smile, (c_size, features, edge_index) in smile_graph.items():\n",
    "#     edge_index = np.array(edge_index)\n",
    "    \n",
    "#     # Check if the shape is incorrect\n",
    "#     if edge_index.shape != (edge_index.shape[0], 2):\n",
    "#         print(f\"Warning: Element with SMILES {smile} has incorrect edge_index shape: {edge_index.shape}\")\n",
    "#         keys_to_remove.append(smile)\n",
    "\n",
    "# # Remove the invalid entries from the original dictionary\n",
    "# print(len(keys_to_remove))\n",
    "# for key in keys_to_remove:\n",
    "#     del smile_graph[key]\n",
    "\n",
    "# # Now smile_graph contains only valid entries\n",
    "# print(f\"Number of valid entries in smile_graph: {len(smile_graph)}\")"
   ]
  },
  {
   "cell_type": "code",
   "execution_count": null,
   "metadata": {},
   "outputs": [
    {
     "name": "stdout",
     "output_type": "stream",
     "text": [
      "361898\n",
      "Preparing data.pt in PyTorch format!\n",
      "Pre-processed data found: data/processed/pharos_full.pt, loading ...\n"
     ]
    },
    {
     "name": "stderr",
     "output_type": "stream",
     "text": [
      "/Users/adele/Documents/GitHub/GraphDTA/utils.py:34: FutureWarning: You are using `torch.load` with `weights_only=False` (the current default value), which uses the default pickle module implicitly. It is possible to construct malicious pickle data which will execute arbitrary code during unpickling (See https://github.com/pytorch/pytorch/blob/main/SECURITY.md#untrusted-models for more details). In a future release, the default value for `weights_only` will be flipped to `True`. This limits the functions that could be executed during unpickling. Arbitrary objects will no longer be allowed to be loaded via this mode unless they are explicitly allowlisted by the user via `torch.serialization.add_safe_globals`. We recommend you start setting `weights_only=True` for any use case where you don't have full control of the loaded file. Please open an issue on GitHub for any issues related to this experimental feature.\n",
      "  self.data, self.slices = torch.load(self.processed_paths[0])\n"
     ]
    },
    {
     "name": "stdout",
     "output_type": "stream",
     "text": [
      "pharos_full.pt has been created\n"
     ]
    }
   ],
   "source": [
    "# import os\n",
    "# import pandas as pd\n",
    "# import torch\n",
    "# import numpy as np\n",
    "# from utils import TestbedDataset\n",
    "\n",
    "# seq_voc = \"ABCDEFGHIKLMNOPQRSTUVWXYZ\"\n",
    "# seq_dict = {v:(i+1) for i,v in enumerate(seq_voc)}\n",
    "# seq_dict_len = len(seq_dict)\n",
    "# max_seq_len = 1000\n",
    "# def seq_cat(prot):\n",
    "#     x = np.zeros(max_seq_len)\n",
    "#     for i, ch in enumerate(prot[:max_seq_len]): \n",
    "#         x[i] = seq_dict[ch]\n",
    "#     return x  \n",
    "\n",
    "# print(len(smile_graph))\n",
    "\n",
    "# # Define the path for the validation data\n",
    "# processed_validation_file = 'pharos_full.pt'\n",
    "\n",
    "# # Check if the processed validation file already exists\n",
    "# if not os.path.isfile(processed_validation_file):\n",
    "#     # Load the validation dataset\n",
    "#     validation_df = df\n",
    "#     validation_drugs = validation_df['compound_iso_smiles'].values\n",
    "#     validation_prots = validation_df['target_sequence'].values\n",
    "#     validation_Y = validation_df['affinity'].values\n",
    "    \n",
    "#     # Convert protein sequences using seq_cat (assuming this function exists)\n",
    "#     validation_encoded_prots = [seq_cat(t) for t in validation_prots]\n",
    "\n",
    "#     # Make the data ready for PyTorch Geometric\n",
    "#     print('Preparing data.pt in PyTorch format!')\n",
    "    \n",
    "#     validation_data = TestbedDataset(\n",
    "#         root='data',\n",
    "#         dataset='pharos_full',\n",
    "#         xd=validation_drugs,\n",
    "#         xt=validation_encoded_prots,\n",
    "#         y=validation_Y,\n",
    "#         smile_graph=smile_graph  # This assumes you've already created `smile_graph`\n",
    "#     )\n",
    "\n",
    "#     # Save the validation dataset\n",
    "#     torch.save(validation_data, processed_validation_file)\n",
    "#     print(f\"{processed_validation_file} has been created\")\n",
    "# else:\n",
    "#     print(f\"{processed_validation_file} already exists\")\n"
   ]
  },
  {
   "cell_type": "code",
   "execution_count": null,
   "metadata": {},
   "outputs": [
    {
     "name": "stderr",
     "output_type": "stream",
     "text": [
      "/var/folders/0v/h_hg_1mj17d5ssrjq1z2m6x80000gp/T/ipykernel_9843/2685524408.py:8: FutureWarning: You are using `torch.load` with `weights_only=False` (the current default value), which uses the default pickle module implicitly. It is possible to construct malicious pickle data which will execute arbitrary code during unpickling (See https://github.com/pytorch/pytorch/blob/main/SECURITY.md#untrusted-models for more details). In a future release, the default value for `weights_only` will be flipped to `True`. This limits the functions that could be executed during unpickling. Arbitrary objects will no longer be allowed to be loaded via this mode unless they are explicitly allowlisted by the user via `torch.serialization.add_safe_globals`. We recommend you start setting `weights_only=True` for any use case where you don't have full control of the loaded file. Please open an issue on GitHub for any issues related to this experimental feature.\n",
      "  validation_data = torch.load('pharos_full.pt')\n"
     ]
    },
    {
     "name": "stdout",
     "output_type": "stream",
     "text": [
      "Length of validation dataset: 643044\n",
      "<class 'utils.TestbedDataset'>\n",
      "<class 'torch_geometric.data.data.Data'> <class 'torch_geometric.data.data.Data'>\n"
     ]
    },
    {
     "name": "stderr",
     "output_type": "stream",
     "text": [
      "/var/folders/0v/h_hg_1mj17d5ssrjq1z2m6x80000gp/T/ipykernel_9843/2685524408.py:22: FutureWarning: You are using `torch.load` with `weights_only=False` (the current default value), which uses the default pickle module implicitly. It is possible to construct malicious pickle data which will execute arbitrary code during unpickling (See https://github.com/pytorch/pytorch/blob/main/SECURITY.md#untrusted-models for more details). In a future release, the default value for `weights_only` will be flipped to `True`. This limits the functions that could be executed during unpickling. Arbitrary objects will no longer be allowed to be loaded via this mode unless they are explicitly allowlisted by the user via `torch.serialization.add_safe_globals`. We recommend you start setting `weights_only=True` for any use case where you don't have full control of the loaded file. Please open an issue on GitHub for any issues related to this experimental feature.\n",
      "  model.load_state_dict(torch.load(model_file_name, map_location=torch.device('cpu')))\n"
     ]
    },
    {
     "ename": "KeyboardInterrupt",
     "evalue": "",
     "output_type": "error",
     "traceback": [
      "\u001b[0;31m---------------------------------------------------------------------------\u001b[0m",
      "\u001b[0;31mKeyboardInterrupt\u001b[0m                         Traceback (most recent call last)",
      "Cell \u001b[0;32mIn[15], line 53\u001b[0m\n\u001b[1;32m     50\u001b[0m     \u001b[38;5;28;01mreturn\u001b[39;00m predictions, true_values\n\u001b[1;32m     52\u001b[0m \u001b[38;5;66;03m# Run predictions on the validation data\u001b[39;00m\n\u001b[0;32m---> 53\u001b[0m outputs, true_values \u001b[38;5;241m=\u001b[39m \u001b[43mpredict_affinities\u001b[49m\u001b[43m(\u001b[49m\u001b[43mmodel\u001b[49m\u001b[43m,\u001b[49m\u001b[43m \u001b[49m\u001b[43mvalidation_loader\u001b[49m\u001b[43m)\u001b[49m\n\u001b[1;32m     55\u001b[0m \u001b[38;5;66;03m# Create a DataFrame and save to CSV\u001b[39;00m\n\u001b[1;32m     56\u001b[0m df \u001b[38;5;241m=\u001b[39m pd\u001b[38;5;241m.\u001b[39mDataFrame({\u001b[38;5;124m'\u001b[39m\u001b[38;5;124mPredictions\u001b[39m\u001b[38;5;124m'\u001b[39m: outputs, \u001b[38;5;124m'\u001b[39m\u001b[38;5;124mTrue Values\u001b[39m\u001b[38;5;124m'\u001b[39m: true_values \u001b[38;5;28;01mif\u001b[39;00m true_values \u001b[38;5;129;01mis\u001b[39;00m \u001b[38;5;129;01mnot\u001b[39;00m \u001b[38;5;28;01mNone\u001b[39;00m \u001b[38;5;28;01melse\u001b[39;00m np\u001b[38;5;241m.\u001b[39mnan})\n",
      "Cell \u001b[0;32mIn[15], line 39\u001b[0m, in \u001b[0;36mpredict_affinities\u001b[0;34m(model, dataloader)\u001b[0m\n\u001b[1;32m     36\u001b[0m batch_data \u001b[38;5;241m=\u001b[39m batch_data\u001b[38;5;241m.\u001b[39mto(device)  \u001b[38;5;66;03m# Move data to the appropriate device\u001b[39;00m\n\u001b[1;32m     38\u001b[0m \u001b[38;5;66;03m# Model prediction\u001b[39;00m\n\u001b[0;32m---> 39\u001b[0m output \u001b[38;5;241m=\u001b[39m \u001b[43mmodel\u001b[49m\u001b[43m(\u001b[49m\u001b[43mbatch_data\u001b[49m\u001b[43m)\u001b[49m  \n\u001b[1;32m     40\u001b[0m all_outputs\u001b[38;5;241m.\u001b[39mappend(output\u001b[38;5;241m.\u001b[39mcpu()\u001b[38;5;241m.\u001b[39mnumpy())  \u001b[38;5;66;03m# Store outputs\u001b[39;00m\n\u001b[1;32m     42\u001b[0m \u001b[38;5;66;03m# Extract true values (if available)\u001b[39;00m\n",
      "File \u001b[0;32m/opt/anaconda3/envs/geometric/lib/python3.11/site-packages/torch/nn/modules/module.py:1736\u001b[0m, in \u001b[0;36mModule._wrapped_call_impl\u001b[0;34m(self, *args, **kwargs)\u001b[0m\n\u001b[1;32m   1734\u001b[0m     \u001b[38;5;28;01mreturn\u001b[39;00m \u001b[38;5;28mself\u001b[39m\u001b[38;5;241m.\u001b[39m_compiled_call_impl(\u001b[38;5;241m*\u001b[39margs, \u001b[38;5;241m*\u001b[39m\u001b[38;5;241m*\u001b[39mkwargs)  \u001b[38;5;66;03m# type: ignore[misc]\u001b[39;00m\n\u001b[1;32m   1735\u001b[0m \u001b[38;5;28;01melse\u001b[39;00m:\n\u001b[0;32m-> 1736\u001b[0m     \u001b[38;5;28;01mreturn\u001b[39;00m \u001b[38;5;28;43mself\u001b[39;49m\u001b[38;5;241;43m.\u001b[39;49m\u001b[43m_call_impl\u001b[49m\u001b[43m(\u001b[49m\u001b[38;5;241;43m*\u001b[39;49m\u001b[43margs\u001b[49m\u001b[43m,\u001b[49m\u001b[43m \u001b[49m\u001b[38;5;241;43m*\u001b[39;49m\u001b[38;5;241;43m*\u001b[39;49m\u001b[43mkwargs\u001b[49m\u001b[43m)\u001b[49m\n",
      "File \u001b[0;32m/opt/anaconda3/envs/geometric/lib/python3.11/site-packages/torch/nn/modules/module.py:1747\u001b[0m, in \u001b[0;36mModule._call_impl\u001b[0;34m(self, *args, **kwargs)\u001b[0m\n\u001b[1;32m   1742\u001b[0m \u001b[38;5;66;03m# If we don't have any hooks, we want to skip the rest of the logic in\u001b[39;00m\n\u001b[1;32m   1743\u001b[0m \u001b[38;5;66;03m# this function, and just call forward.\u001b[39;00m\n\u001b[1;32m   1744\u001b[0m \u001b[38;5;28;01mif\u001b[39;00m \u001b[38;5;129;01mnot\u001b[39;00m (\u001b[38;5;28mself\u001b[39m\u001b[38;5;241m.\u001b[39m_backward_hooks \u001b[38;5;129;01mor\u001b[39;00m \u001b[38;5;28mself\u001b[39m\u001b[38;5;241m.\u001b[39m_backward_pre_hooks \u001b[38;5;129;01mor\u001b[39;00m \u001b[38;5;28mself\u001b[39m\u001b[38;5;241m.\u001b[39m_forward_hooks \u001b[38;5;129;01mor\u001b[39;00m \u001b[38;5;28mself\u001b[39m\u001b[38;5;241m.\u001b[39m_forward_pre_hooks\n\u001b[1;32m   1745\u001b[0m         \u001b[38;5;129;01mor\u001b[39;00m _global_backward_pre_hooks \u001b[38;5;129;01mor\u001b[39;00m _global_backward_hooks\n\u001b[1;32m   1746\u001b[0m         \u001b[38;5;129;01mor\u001b[39;00m _global_forward_hooks \u001b[38;5;129;01mor\u001b[39;00m _global_forward_pre_hooks):\n\u001b[0;32m-> 1747\u001b[0m     \u001b[38;5;28;01mreturn\u001b[39;00m \u001b[43mforward_call\u001b[49m\u001b[43m(\u001b[49m\u001b[38;5;241;43m*\u001b[39;49m\u001b[43margs\u001b[49m\u001b[43m,\u001b[49m\u001b[43m \u001b[49m\u001b[38;5;241;43m*\u001b[39;49m\u001b[38;5;241;43m*\u001b[39;49m\u001b[43mkwargs\u001b[49m\u001b[43m)\u001b[49m\n\u001b[1;32m   1749\u001b[0m result \u001b[38;5;241m=\u001b[39m \u001b[38;5;28;01mNone\u001b[39;00m\n\u001b[1;32m   1750\u001b[0m called_always_called_hooks \u001b[38;5;241m=\u001b[39m \u001b[38;5;28mset\u001b[39m()\n",
      "File \u001b[0;32m~/Documents/GitHub/GraphDTA/models/ginconv.py:60\u001b[0m, in \u001b[0;36mGINConvNet.forward\u001b[0;34m(self, data)\u001b[0m\n\u001b[1;32m     58\u001b[0m x \u001b[38;5;241m=\u001b[39m F\u001b[38;5;241m.\u001b[39mrelu(\u001b[38;5;28mself\u001b[39m\u001b[38;5;241m.\u001b[39mconv2(x, edge_index))\n\u001b[1;32m     59\u001b[0m x \u001b[38;5;241m=\u001b[39m \u001b[38;5;28mself\u001b[39m\u001b[38;5;241m.\u001b[39mbn2(x)\n\u001b[0;32m---> 60\u001b[0m x \u001b[38;5;241m=\u001b[39m F\u001b[38;5;241m.\u001b[39mrelu(\u001b[38;5;28;43mself\u001b[39;49m\u001b[38;5;241;43m.\u001b[39;49m\u001b[43mconv3\u001b[49m\u001b[43m(\u001b[49m\u001b[43mx\u001b[49m\u001b[43m,\u001b[49m\u001b[43m \u001b[49m\u001b[43medge_index\u001b[49m\u001b[43m)\u001b[49m)\n\u001b[1;32m     61\u001b[0m x \u001b[38;5;241m=\u001b[39m \u001b[38;5;28mself\u001b[39m\u001b[38;5;241m.\u001b[39mbn3(x)\n\u001b[1;32m     62\u001b[0m x \u001b[38;5;241m=\u001b[39m F\u001b[38;5;241m.\u001b[39mrelu(\u001b[38;5;28mself\u001b[39m\u001b[38;5;241m.\u001b[39mconv4(x, edge_index))\n",
      "File \u001b[0;32m/opt/anaconda3/envs/geometric/lib/python3.11/site-packages/torch/nn/modules/module.py:1736\u001b[0m, in \u001b[0;36mModule._wrapped_call_impl\u001b[0;34m(self, *args, **kwargs)\u001b[0m\n\u001b[1;32m   1734\u001b[0m     \u001b[38;5;28;01mreturn\u001b[39;00m \u001b[38;5;28mself\u001b[39m\u001b[38;5;241m.\u001b[39m_compiled_call_impl(\u001b[38;5;241m*\u001b[39margs, \u001b[38;5;241m*\u001b[39m\u001b[38;5;241m*\u001b[39mkwargs)  \u001b[38;5;66;03m# type: ignore[misc]\u001b[39;00m\n\u001b[1;32m   1735\u001b[0m \u001b[38;5;28;01melse\u001b[39;00m:\n\u001b[0;32m-> 1736\u001b[0m     \u001b[38;5;28;01mreturn\u001b[39;00m \u001b[38;5;28;43mself\u001b[39;49m\u001b[38;5;241;43m.\u001b[39;49m\u001b[43m_call_impl\u001b[49m\u001b[43m(\u001b[49m\u001b[38;5;241;43m*\u001b[39;49m\u001b[43margs\u001b[49m\u001b[43m,\u001b[49m\u001b[43m \u001b[49m\u001b[38;5;241;43m*\u001b[39;49m\u001b[38;5;241;43m*\u001b[39;49m\u001b[43mkwargs\u001b[49m\u001b[43m)\u001b[49m\n",
      "File \u001b[0;32m/opt/anaconda3/envs/geometric/lib/python3.11/site-packages/torch/nn/modules/module.py:1747\u001b[0m, in \u001b[0;36mModule._call_impl\u001b[0;34m(self, *args, **kwargs)\u001b[0m\n\u001b[1;32m   1742\u001b[0m \u001b[38;5;66;03m# If we don't have any hooks, we want to skip the rest of the logic in\u001b[39;00m\n\u001b[1;32m   1743\u001b[0m \u001b[38;5;66;03m# this function, and just call forward.\u001b[39;00m\n\u001b[1;32m   1744\u001b[0m \u001b[38;5;28;01mif\u001b[39;00m \u001b[38;5;129;01mnot\u001b[39;00m (\u001b[38;5;28mself\u001b[39m\u001b[38;5;241m.\u001b[39m_backward_hooks \u001b[38;5;129;01mor\u001b[39;00m \u001b[38;5;28mself\u001b[39m\u001b[38;5;241m.\u001b[39m_backward_pre_hooks \u001b[38;5;129;01mor\u001b[39;00m \u001b[38;5;28mself\u001b[39m\u001b[38;5;241m.\u001b[39m_forward_hooks \u001b[38;5;129;01mor\u001b[39;00m \u001b[38;5;28mself\u001b[39m\u001b[38;5;241m.\u001b[39m_forward_pre_hooks\n\u001b[1;32m   1745\u001b[0m         \u001b[38;5;129;01mor\u001b[39;00m _global_backward_pre_hooks \u001b[38;5;129;01mor\u001b[39;00m _global_backward_hooks\n\u001b[1;32m   1746\u001b[0m         \u001b[38;5;129;01mor\u001b[39;00m _global_forward_hooks \u001b[38;5;129;01mor\u001b[39;00m _global_forward_pre_hooks):\n\u001b[0;32m-> 1747\u001b[0m     \u001b[38;5;28;01mreturn\u001b[39;00m \u001b[43mforward_call\u001b[49m\u001b[43m(\u001b[49m\u001b[38;5;241;43m*\u001b[39;49m\u001b[43margs\u001b[49m\u001b[43m,\u001b[49m\u001b[43m \u001b[49m\u001b[38;5;241;43m*\u001b[39;49m\u001b[38;5;241;43m*\u001b[39;49m\u001b[43mkwargs\u001b[49m\u001b[43m)\u001b[49m\n\u001b[1;32m   1749\u001b[0m result \u001b[38;5;241m=\u001b[39m \u001b[38;5;28;01mNone\u001b[39;00m\n\u001b[1;32m   1750\u001b[0m called_always_called_hooks \u001b[38;5;241m=\u001b[39m \u001b[38;5;28mset\u001b[39m()\n",
      "File \u001b[0;32m/opt/anaconda3/envs/geometric/lib/python3.11/site-packages/torch_geometric/nn/conv/gin_conv.py:90\u001b[0m, in \u001b[0;36mGINConv.forward\u001b[0;34m(self, x, edge_index, size)\u001b[0m\n\u001b[1;32m     87\u001b[0m \u001b[38;5;28;01mif\u001b[39;00m x_r \u001b[38;5;129;01mis\u001b[39;00m \u001b[38;5;129;01mnot\u001b[39;00m \u001b[38;5;28;01mNone\u001b[39;00m:\n\u001b[1;32m     88\u001b[0m     out \u001b[38;5;241m=\u001b[39m out \u001b[38;5;241m+\u001b[39m (\u001b[38;5;241m1\u001b[39m \u001b[38;5;241m+\u001b[39m \u001b[38;5;28mself\u001b[39m\u001b[38;5;241m.\u001b[39meps) \u001b[38;5;241m*\u001b[39m x_r\n\u001b[0;32m---> 90\u001b[0m \u001b[38;5;28;01mreturn\u001b[39;00m \u001b[38;5;28;43mself\u001b[39;49m\u001b[38;5;241;43m.\u001b[39;49m\u001b[43mnn\u001b[49m\u001b[43m(\u001b[49m\u001b[43mout\u001b[49m\u001b[43m)\u001b[49m\n",
      "File \u001b[0;32m/opt/anaconda3/envs/geometric/lib/python3.11/site-packages/torch/nn/modules/module.py:1736\u001b[0m, in \u001b[0;36mModule._wrapped_call_impl\u001b[0;34m(self, *args, **kwargs)\u001b[0m\n\u001b[1;32m   1734\u001b[0m     \u001b[38;5;28;01mreturn\u001b[39;00m \u001b[38;5;28mself\u001b[39m\u001b[38;5;241m.\u001b[39m_compiled_call_impl(\u001b[38;5;241m*\u001b[39margs, \u001b[38;5;241m*\u001b[39m\u001b[38;5;241m*\u001b[39mkwargs)  \u001b[38;5;66;03m# type: ignore[misc]\u001b[39;00m\n\u001b[1;32m   1735\u001b[0m \u001b[38;5;28;01melse\u001b[39;00m:\n\u001b[0;32m-> 1736\u001b[0m     \u001b[38;5;28;01mreturn\u001b[39;00m \u001b[38;5;28;43mself\u001b[39;49m\u001b[38;5;241;43m.\u001b[39;49m\u001b[43m_call_impl\u001b[49m\u001b[43m(\u001b[49m\u001b[38;5;241;43m*\u001b[39;49m\u001b[43margs\u001b[49m\u001b[43m,\u001b[49m\u001b[43m \u001b[49m\u001b[38;5;241;43m*\u001b[39;49m\u001b[38;5;241;43m*\u001b[39;49m\u001b[43mkwargs\u001b[49m\u001b[43m)\u001b[49m\n",
      "File \u001b[0;32m/opt/anaconda3/envs/geometric/lib/python3.11/site-packages/torch/nn/modules/module.py:1747\u001b[0m, in \u001b[0;36mModule._call_impl\u001b[0;34m(self, *args, **kwargs)\u001b[0m\n\u001b[1;32m   1742\u001b[0m \u001b[38;5;66;03m# If we don't have any hooks, we want to skip the rest of the logic in\u001b[39;00m\n\u001b[1;32m   1743\u001b[0m \u001b[38;5;66;03m# this function, and just call forward.\u001b[39;00m\n\u001b[1;32m   1744\u001b[0m \u001b[38;5;28;01mif\u001b[39;00m \u001b[38;5;129;01mnot\u001b[39;00m (\u001b[38;5;28mself\u001b[39m\u001b[38;5;241m.\u001b[39m_backward_hooks \u001b[38;5;129;01mor\u001b[39;00m \u001b[38;5;28mself\u001b[39m\u001b[38;5;241m.\u001b[39m_backward_pre_hooks \u001b[38;5;129;01mor\u001b[39;00m \u001b[38;5;28mself\u001b[39m\u001b[38;5;241m.\u001b[39m_forward_hooks \u001b[38;5;129;01mor\u001b[39;00m \u001b[38;5;28mself\u001b[39m\u001b[38;5;241m.\u001b[39m_forward_pre_hooks\n\u001b[1;32m   1745\u001b[0m         \u001b[38;5;129;01mor\u001b[39;00m _global_backward_pre_hooks \u001b[38;5;129;01mor\u001b[39;00m _global_backward_hooks\n\u001b[1;32m   1746\u001b[0m         \u001b[38;5;129;01mor\u001b[39;00m _global_forward_hooks \u001b[38;5;129;01mor\u001b[39;00m _global_forward_pre_hooks):\n\u001b[0;32m-> 1747\u001b[0m     \u001b[38;5;28;01mreturn\u001b[39;00m \u001b[43mforward_call\u001b[49m\u001b[43m(\u001b[49m\u001b[38;5;241;43m*\u001b[39;49m\u001b[43margs\u001b[49m\u001b[43m,\u001b[49m\u001b[43m \u001b[49m\u001b[38;5;241;43m*\u001b[39;49m\u001b[38;5;241;43m*\u001b[39;49m\u001b[43mkwargs\u001b[49m\u001b[43m)\u001b[49m\n\u001b[1;32m   1749\u001b[0m result \u001b[38;5;241m=\u001b[39m \u001b[38;5;28;01mNone\u001b[39;00m\n\u001b[1;32m   1750\u001b[0m called_always_called_hooks \u001b[38;5;241m=\u001b[39m \u001b[38;5;28mset\u001b[39m()\n",
      "File \u001b[0;32m/opt/anaconda3/envs/geometric/lib/python3.11/site-packages/torch/nn/modules/container.py:250\u001b[0m, in \u001b[0;36mSequential.forward\u001b[0;34m(self, input)\u001b[0m\n\u001b[1;32m    248\u001b[0m \u001b[38;5;28;01mdef\u001b[39;00m\u001b[38;5;250m \u001b[39m\u001b[38;5;21mforward\u001b[39m(\u001b[38;5;28mself\u001b[39m, \u001b[38;5;28minput\u001b[39m):\n\u001b[1;32m    249\u001b[0m     \u001b[38;5;28;01mfor\u001b[39;00m module \u001b[38;5;129;01min\u001b[39;00m \u001b[38;5;28mself\u001b[39m:\n\u001b[0;32m--> 250\u001b[0m         \u001b[38;5;28minput\u001b[39m \u001b[38;5;241m=\u001b[39m \u001b[43mmodule\u001b[49m\u001b[43m(\u001b[49m\u001b[38;5;28;43minput\u001b[39;49m\u001b[43m)\u001b[49m\n\u001b[1;32m    251\u001b[0m     \u001b[38;5;28;01mreturn\u001b[39;00m \u001b[38;5;28minput\u001b[39m\n",
      "File \u001b[0;32m/opt/anaconda3/envs/geometric/lib/python3.11/site-packages/torch/nn/modules/module.py:1736\u001b[0m, in \u001b[0;36mModule._wrapped_call_impl\u001b[0;34m(self, *args, **kwargs)\u001b[0m\n\u001b[1;32m   1734\u001b[0m     \u001b[38;5;28;01mreturn\u001b[39;00m \u001b[38;5;28mself\u001b[39m\u001b[38;5;241m.\u001b[39m_compiled_call_impl(\u001b[38;5;241m*\u001b[39margs, \u001b[38;5;241m*\u001b[39m\u001b[38;5;241m*\u001b[39mkwargs)  \u001b[38;5;66;03m# type: ignore[misc]\u001b[39;00m\n\u001b[1;32m   1735\u001b[0m \u001b[38;5;28;01melse\u001b[39;00m:\n\u001b[0;32m-> 1736\u001b[0m     \u001b[38;5;28;01mreturn\u001b[39;00m \u001b[38;5;28;43mself\u001b[39;49m\u001b[38;5;241;43m.\u001b[39;49m\u001b[43m_call_impl\u001b[49m\u001b[43m(\u001b[49m\u001b[38;5;241;43m*\u001b[39;49m\u001b[43margs\u001b[49m\u001b[43m,\u001b[49m\u001b[43m \u001b[49m\u001b[38;5;241;43m*\u001b[39;49m\u001b[38;5;241;43m*\u001b[39;49m\u001b[43mkwargs\u001b[49m\u001b[43m)\u001b[49m\n",
      "File \u001b[0;32m/opt/anaconda3/envs/geometric/lib/python3.11/site-packages/torch/nn/modules/module.py:1747\u001b[0m, in \u001b[0;36mModule._call_impl\u001b[0;34m(self, *args, **kwargs)\u001b[0m\n\u001b[1;32m   1742\u001b[0m \u001b[38;5;66;03m# If we don't have any hooks, we want to skip the rest of the logic in\u001b[39;00m\n\u001b[1;32m   1743\u001b[0m \u001b[38;5;66;03m# this function, and just call forward.\u001b[39;00m\n\u001b[1;32m   1744\u001b[0m \u001b[38;5;28;01mif\u001b[39;00m \u001b[38;5;129;01mnot\u001b[39;00m (\u001b[38;5;28mself\u001b[39m\u001b[38;5;241m.\u001b[39m_backward_hooks \u001b[38;5;129;01mor\u001b[39;00m \u001b[38;5;28mself\u001b[39m\u001b[38;5;241m.\u001b[39m_backward_pre_hooks \u001b[38;5;129;01mor\u001b[39;00m \u001b[38;5;28mself\u001b[39m\u001b[38;5;241m.\u001b[39m_forward_hooks \u001b[38;5;129;01mor\u001b[39;00m \u001b[38;5;28mself\u001b[39m\u001b[38;5;241m.\u001b[39m_forward_pre_hooks\n\u001b[1;32m   1745\u001b[0m         \u001b[38;5;129;01mor\u001b[39;00m _global_backward_pre_hooks \u001b[38;5;129;01mor\u001b[39;00m _global_backward_hooks\n\u001b[1;32m   1746\u001b[0m         \u001b[38;5;129;01mor\u001b[39;00m _global_forward_hooks \u001b[38;5;129;01mor\u001b[39;00m _global_forward_pre_hooks):\n\u001b[0;32m-> 1747\u001b[0m     \u001b[38;5;28;01mreturn\u001b[39;00m \u001b[43mforward_call\u001b[49m\u001b[43m(\u001b[49m\u001b[38;5;241;43m*\u001b[39;49m\u001b[43margs\u001b[49m\u001b[43m,\u001b[49m\u001b[43m \u001b[49m\u001b[38;5;241;43m*\u001b[39;49m\u001b[38;5;241;43m*\u001b[39;49m\u001b[43mkwargs\u001b[49m\u001b[43m)\u001b[49m\n\u001b[1;32m   1749\u001b[0m result \u001b[38;5;241m=\u001b[39m \u001b[38;5;28;01mNone\u001b[39;00m\n\u001b[1;32m   1750\u001b[0m called_always_called_hooks \u001b[38;5;241m=\u001b[39m \u001b[38;5;28mset\u001b[39m()\n",
      "File \u001b[0;32m/opt/anaconda3/envs/geometric/lib/python3.11/site-packages/torch/nn/modules/linear.py:125\u001b[0m, in \u001b[0;36mLinear.forward\u001b[0;34m(self, input)\u001b[0m\n\u001b[1;32m    124\u001b[0m \u001b[38;5;28;01mdef\u001b[39;00m\u001b[38;5;250m \u001b[39m\u001b[38;5;21mforward\u001b[39m(\u001b[38;5;28mself\u001b[39m, \u001b[38;5;28minput\u001b[39m: Tensor) \u001b[38;5;241m-\u001b[39m\u001b[38;5;241m>\u001b[39m Tensor:\n\u001b[0;32m--> 125\u001b[0m     \u001b[38;5;28;01mreturn\u001b[39;00m \u001b[43mF\u001b[49m\u001b[38;5;241;43m.\u001b[39;49m\u001b[43mlinear\u001b[49m\u001b[43m(\u001b[49m\u001b[38;5;28;43minput\u001b[39;49m\u001b[43m,\u001b[49m\u001b[43m \u001b[49m\u001b[38;5;28;43mself\u001b[39;49m\u001b[38;5;241;43m.\u001b[39;49m\u001b[43mweight\u001b[49m\u001b[43m,\u001b[49m\u001b[43m \u001b[49m\u001b[38;5;28;43mself\u001b[39;49m\u001b[38;5;241;43m.\u001b[39;49m\u001b[43mbias\u001b[49m\u001b[43m)\u001b[49m\n",
      "\u001b[0;31mKeyboardInterrupt\u001b[0m: "
     ]
    }
   ],
   "source": [
    "# import torch\n",
    "# from torch_geometric.data import DataLoader\n",
    "# from models.ginconv import GINConvNet\n",
    "\n",
    "# device = torch.device(\"cuda\" if torch.cuda.is_available() else \"cpu\")\n",
    "\n",
    "# # Load the validation dataset\n",
    "# validation_data = torch.load('pharos_full.pt')\n",
    "# print(f\"Length of validation dataset: {len(validation_data)}\")\n",
    "# print(type(validation_data))\n",
    "# print(type(validation_data[0]), type(validation_data[1]))\n",
    "\n",
    "\n",
    "# # Create a DataLoader for the validation dataset\n",
    "# validation_loader = DataLoader(validation_data, batch_size=32, shuffle=False)\n",
    "\n",
    "# # Define the model architecture (ensure this matches the one you used for training)\n",
    "# model = GINConvNet()  # or whichever model you used (e.g., GAT_GCN, GCNNet, etc.)\n",
    "\n",
    "# # Load the trained model weights (ensure the correct model path)\n",
    "# model_file_name = '../results/1_21/model_GINConvNet_davis.model'  # Update with your model file name\n",
    "# model.load_state_dict(torch.load(model_file_name, map_location=torch.device('cpu')))\n",
    "# model.eval()  # Set the model to evaluation mode\n",
    "\n",
    "# import torch\n",
    "# import numpy as np\n",
    "# import pandas as pd\n",
    "\n",
    "# def predict_affinities(model, dataloader):\n",
    "#     model.eval()  # Set the model to evaluation mode\n",
    "#     all_outputs = []\n",
    "#     all_true_values = []\n",
    "\n",
    "#     with torch.no_grad():  # Disable gradient calculation for inference\n",
    "#         for batch_data in dataloader:\n",
    "#             batch_data = batch_data.to(device)  # Move data to the appropriate device\n",
    "            \n",
    "#             # Model prediction\n",
    "#             output = model(batch_data)  \n",
    "#             all_outputs.append(output.cpu().numpy())  # Store outputs\n",
    "\n",
    "#             # Extract true values (if available)\n",
    "#             if hasattr(batch_data, 'y'):  # Check if batch_data has 'y' (true affinities)\n",
    "#                 all_true_values.append(batch_data.y.cpu().numpy())\n",
    "\n",
    "#     # Convert lists to NumPy arrays\n",
    "#     predictions = np.concatenate(all_outputs, axis=0)\n",
    "#     true_values = np.concatenate(all_true_values, axis=0) if all_true_values else None\n",
    "\n",
    "#     return predictions, true_values\n",
    "\n",
    "# # Run predictions on the validation data\n",
    "# outputs, true_values = predict_affinities(model, validation_loader)\n",
    "\n",
    "# # Create a DataFrame and save to CSV\n",
    "# df = pd.DataFrame({'Predictions': outputs, 'True Values': true_values if true_values is not None else np.nan})\n",
    "# df.to_csv('predictions.csv', index=False)\n",
    "\n",
    "# print(\"Predictions saved to predictions.csv\")"
   ]
  },
  {
   "cell_type": "code",
   "execution_count": 2,
   "metadata": {},
   "outputs": [
    {
     "name": "stdout",
     "output_type": "stream",
     "text": [
      "Mean Squared Error (MSE): 6.808\n",
      "Mean Absolute Error (MAE): 2.388\n",
      "R² Score: -5.570\n",
      "Spearman Correlation: 0.130\n",
      "Pearson Correlation: 0.159\n"
     ]
    },
    {
     "data": {
      "image/png": "[encoded data removed]",
      "text/plain": [
       "<Figure size 600x600 with 1 Axes>"
      ]
     },
     "metadata": {},
     "output_type": "display_data"
    }
   ],
   "source": [
    "import pandas as pd\n",
    "import numpy as np\n",
    "import matplotlib.pyplot as plt\n",
    "from scipy import stats\n",
    "from sklearn.metrics import mean_squared_error, mean_absolute_error, r2_score\n",
    "\n",
    "# Load the CSV file\n",
    "df = pd.read_csv('predictions_pharos_full.csv')\n",
    "\n",
    "# Extract true and predicted values\n",
    "y_true = df['True Values'].values\n",
    "y_pred = df['Predictions'].values\n",
    "\n",
    "# Compute regression metrics\n",
    "mse = mean_squared_error(y_true, y_pred)\n",
    "mae = mean_absolute_error(y_true, y_pred)\n",
    "r2 = r2_score(y_true, y_pred)\n",
    "pearson_corr, _ = stats.pearsonr(y_true, y_pred)\n",
    "spearman_corr, _ = stats.spearmanr(y_true, y_pred)\n",
    "\n",
    "# Print metrics\n",
    "print(f\"Mean Squared Error (MSE): {mse:.3f}\")\n",
    "print(f\"Mean Absolute Error (MAE): {mae:.3f}\")\n",
    "print(f\"R² Score: {r2:.3f}\")\n",
    "print(f\"Spearman Correlation: {spearman_corr:.3f}\")\n",
    "print(f\"Pearson Correlation: {pearson_corr:.3f}\")\n",
    "\n",
    "# Scatter plot of true vs. predicted values\n",
    "plt.figure(figsize=(6, 6))\n",
    "plt.scatter(y_true, y_pred, alpha=0.5, color='blue', label='Predictions')\n",
    "plt.plot([min(y_true), max(y_true)], [min(y_true), max(y_true)], color='red', linestyle=\"--\", label='Ideal Fit')  # Identity line\n",
    "plt.xlabel(\"True Affinity\")\n",
    "plt.ylabel(\"Predicted Affinity\")\n",
    "plt.title(\"True vs. Predicted Affinities\")\n",
    "plt.legend()\n",
    "plt.show()\n"
   ]
  }
 ],
 "metadata": {
  "kernelspec": {
   "display_name": "geometric",
   "language": "python",
   "name": "python3"
  },
  "language_info": {
   "codemirror_mode": {
    "name": "ipython",
    "version": 3
   },
   "file_extension": ".py",
   "mimetype": "text/x-python",
   "name": "python",
   "nbconvert_exporter": "python",
   "pygments_lexer": "ipython3",
   "version": "3.11.11"
  }
 },
 "nbformat": 4,
 "nbformat_minor": 2
}
